{
 "cells": [
  {
   "cell_type": "code",
   "execution_count": 21,
   "metadata": {},
   "outputs": [
    {
     "name": "stdout",
     "output_type": "stream",
     "text": [
      "0\n"
     ]
    },
    {
     "name": "stderr",
     "output_type": "stream",
     "text": [
      "/anaconda3/lib/python3.6/site-packages/pandas/core/indexes/range.py:720: FutureWarning: Support for multi-dimensional indexing (e.g. `obj[:, None]`) is deprecated and will be removed in a future version.  Convert to a numpy array before indexing instead.\n",
      "  return super().__getitem__(key)\n",
      "/anaconda3/lib/python3.6/site-packages/matplotlib/cbook/__init__.py:2019: FutureWarning: Support for multi-dimensional indexing (e.g. `obj[:, None]`) is deprecated and will be removed in a future version.  Convert to a numpy array before indexing instead.\n",
      "  x[:, None]\n",
      "/anaconda3/lib/python3.6/site-packages/matplotlib/axes/_base.py:251: FutureWarning: Support for multi-dimensional indexing (e.g. `obj[:, None]`) is deprecated and will be removed in a future version.  Convert to a numpy array before indexing instead.\n",
      "  y = y[:, np.newaxis]\n"
     ]
    },
    {
     "data": {
      "image/png": "[encoded data removed]",
      "text/plain": [
       "<matplotlib.figure.Figure at 0x12d514ef0>"
      ]
     },
     "metadata": {},
     "output_type": "display_data"
    },
    {
     "name": "stdout",
     "output_type": "stream",
     "text": [
      "         Date      TSLA\n",
      "0  2010-06-29  4.778000\n",
      "1  2010-06-30  4.772000\n",
      "2  2010-07-01  4.645333\n",
      "3  2010-07-02  4.444000\n",
      "4  2010-07-06  4.199600\n"
     ]
    }
   ],
   "source": [
    "import pandas as pd\n",
    "import matplotlib.pyplot as plt\n",
    "from matplotlib import style\n",
    "import pickle\n",
    "from sklearn import preprocessing\n",
    "\n",
    "\n",
    "def compile_data():\n",
    "    #with open(\"sp500tickers.pickle\",\"rb\") as f:\n",
    "    #    tickers = pickle.load(f)\n",
    "    tickers = [\"TSLA\"]\n",
    "    main_df = pd.DataFrame()\n",
    "    style.use('ggplot')\n",
    "    ax1 = plt.subplot2grid((6, 1), (0, 0), rowspan=5, colspan=1)\n",
    "    for count, ticker in enumerate(tickers):\n",
    "        try:\n",
    "            df = pd.read_csv('stock_dfs/{}.csv'.format(ticker))\n",
    "\n",
    "\n",
    "            df[ticker] = df['Adj Close'].rolling(window=100, min_periods=0).mean()\n",
    "            df['Date'] = df['Date']\n",
    "\n",
    "\n",
    "            #df[\"Normalized\"] = df.div(df[ticker].sum(axis=1), axis=0)\n",
    "\n",
    "            df.drop(['Open', 'High', 'Low', \"Close\", \"Volume\", \"Adj Close\"], 1, inplace=True)\n",
    "\n",
    "            ax1.plot(df.index, df[ticker])\n",
    "\n",
    "            if main_df.empty:\n",
    "                main_df= df\n",
    "            else:\n",
    "                main_df = main_df.join(df, how='outer')\n",
    "\n",
    "            if count%10==0:\n",
    "                print(count)\n",
    "        except:\n",
    "            continue\n",
    "    plt.show()\n",
    "    print(main_df.head())\n",
    "    main_df.to_csv('TSLA_joined_closes.csv')\n",
    "\n",
    "compile_data()"
   ]
  },
  {
   "cell_type": "code",
   "execution_count": null,
   "metadata": {},
   "outputs": [],
   "source": []
  }
 ],
 "metadata": {
  "kernelspec": {
   "display_name": "Python 3",
   "language": "python",
   "name": "python3"
  },
  "language_info": {
   "codemirror_mode": {
    "name": "ipython",
    "version": 3
   },
   "file_extension": ".py",
   "mimetype": "text/x-python",
   "name": "python",
   "nbconvert_exporter": "python",
   "pygments_lexer": "ipython3",
   "version": "3.6.4"
  }
 },
 "nbformat": 4,
 "nbformat_minor": 2
}
