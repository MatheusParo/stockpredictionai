{
 "cells": [
  {
   "cell_type": "code",
   "execution_count": 22,
   "metadata": {},
   "outputs": [
    {
     "name": "stdout",
     "output_type": "stream",
     "text": [
      "TSLA\n"
     ]
    },
    {
     "name": "stderr",
     "output_type": "stream",
     "text": [
      "/anaconda3/lib/python3.6/site-packages/ipykernel_launcher.py:29: UserWarning: Pandas doesn't allow columns to be created via a new attribute name - see https://pandas.pydata.org/pandas-docs/stable/indexing.html#attribute-access\n"
     ]
    },
    {
     "name": "stdout",
     "output_type": "stream",
     "text": [
      "                TSLA\n",
      "Date                \n",
      "2010-06-29  4.778000\n",
      "2010-06-30  4.772000\n",
      "2010-07-01  4.645333\n",
      "2010-07-02  4.444000\n",
      "2010-07-06  4.199600\n",
      "2010-07-07  4.026333\n",
      "2010-07-08  3.950000\n",
      "2010-07-09  3.891250\n",
      "2010-07-12  3.837778\n",
      "2010-07-13  3.816800\n",
      "GOOGL\n",
      "                 GOOGL\n",
      "Date                  \n",
      "2010-01-04  313.688690\n",
      "2010-01-05  312.998001\n",
      "2010-01-06  310.143483\n",
      "2010-01-07  306.944450\n",
      "2010-01-08  305.817822\n",
      "2010-01-11  304.990829\n",
      "2010-01-12  303.640071\n",
      "2010-01-13  302.414917\n",
      "2010-01-14  301.615506\n",
      "2010-01-15  300.482983\n"
     ]
    },
    {
     "name": "stderr",
     "output_type": "stream",
     "text": [
      "/anaconda3/lib/python3.6/site-packages/ipykernel_launcher.py:29: UserWarning: Pandas doesn't allow columns to be created via a new attribute name - see https://pandas.pydata.org/pandas-docs/stable/indexing.html#attribute-access\n"
     ]
    }
   ],
   "source": [
    "import bs4 as bs\n",
    "import datetime as dt\n",
    "import os\n",
    "from pandas_datareader import data as pdr\n",
    "import pickle\n",
    "import requests\n",
    "import yfinance as yf\n",
    "import pandas as pd\n",
    "yf.pdr_override\n",
    "\n",
    "\n",
    "\n",
    "def get_data_from_yahoo(reload_sp500=False):\n",
    "    \n",
    "    tickers = ['TSLA','GOOGL']\n",
    "    start = dt.datetime(2010, 1, 1)\n",
    "    end = dt.datetime.now()\n",
    "    \n",
    "    \n",
    "    for ticker in tickers:\n",
    "        print(ticker)\n",
    "        \n",
    "        df = pdr.get_data_yahoo(ticker, start, end)\n",
    "        df.reset_index(inplace=True)\n",
    "        df[ticker] = df['Adj Close'].rolling(window=100, min_periods=0).mean()\n",
    "        df.drop(['Open', 'High', 'Low', \"Close\", \"Volume\", \"Adj Close\"], 1, inplace=True)\n",
    "        df.to_csv('stock_dfs/{}.csv'.format(ticker))\n",
    "        \n",
    "        df.time = pd.to_datetime(df['Date'], format='%Y-%m-%d')\n",
    "        df.set_index(['Date'],inplace=True)\n",
    "        \n",
    "        \n",
    "        print(df.head(10))\n",
    "        \n",
    "\n",
    "\n",
    "\n",
    "get_data_from_yahoo()"
   ]
  },
  {
   "cell_type": "code",
   "execution_count": 11,
   "metadata": {},
   "outputs": [
    {
     "data": {
      "text/plain": [
       "'/Users/Matheus/Desktop/stockpredictionai'"
      ]
     },
     "execution_count": 11,
     "metadata": {},
     "output_type": "execute_result"
    }
   ],
   "source": [
    "pwd"
   ]
  },
  {
   "cell_type": "code",
   "execution_count": null,
   "metadata": {},
   "outputs": [],
   "source": []
  }
 ],
 "metadata": {
  "kernelspec": {
   "display_name": "Python 3",
   "language": "python",
   "name": "python3"
  },
  "language_info": {
   "codemirror_mode": {
    "name": "ipython",
    "version": 3
   },
   "file_extension": ".py",
   "mimetype": "text/x-python",
   "name": "python",
   "nbconvert_exporter": "python",
   "pygments_lexer": "ipython3",
   "version": "3.6.4"
  }
 },
 "nbformat": 4,
 "nbformat_minor": 2
}
